{
 "cells": [
  {
   "cell_type": "markdown",
   "metadata": {
    "id": "R3D82waLqItO"
   },
   "source": [
    "# DAT405/DIT407 Introduction to Data Science and AI \n",
    "## 2022-2023, Reading Period 4\n",
    "## Assignment 5: Reinforcement learning and classification\n",
    "\n"
   ]
  },
  {
   "cell_type": "markdown",
   "metadata": {},
   "source": [
    "Assignment 5 by Josefin Kokkinakis and Eli Uhlin, group 30.\n",
    "We have both worked around 15 hours each."
   ]
  },
  {
   "cell_type": "markdown",
   "metadata": {
    "id": "KiO_zpY7qItS"
   },
   "source": [
    "## Question 1"
   ]
  },
  {
   "cell_type": "markdown",
   "metadata": {
    "id": "XUyGq4olqItS"
   },
   "source": [
    "The first question covers a deterministic MPD, where the action is directly given by the state, described as follows:\n",
    "\n",
    "* The agent starts in state **S** (see table below)\n",
    "* The actions possible are **N** (north), **S** (south), **E** (east), and **W** west. \n",
    "* The transition probabilities in each box are deterministic (for example P(s'|s,N)=1 if s' north of s). Note, however, that you cannot move outside the grid, thus all actions are not available in every box.\n",
    "* When reaching **F**, the game ends (absorbing state).\n",
    "* The numbers in the boxes represent the rewards you receive when moving into that box. \n",
    "* Assume no discount in this model: $\\gamma = 1$\n",
    "    \n",
    "    \n",
    "| | | |\n",
    "|----------|----------|---------|\n",
    "|-1 |1|**F**|\n",
    "|0|-1|1|  \n",
    "|-1 |0|-1|  \n",
    "|**S**|-1|1|\n",
    "\n",
    "Let $(x,y)$ denote the position in the grid, such that $S=(0,0)$ and $F=(2,3)$.\n"
   ]
  },
  {
   "cell_type": "markdown",
   "metadata": {},
   "source": [
    "**1a)** What is the optimal path of the MDP above? Is it unique? Submit the path as a single string of directions. E.g. NESW will make a circle."
   ]
  },
  {
   "cell_type": "markdown",
   "metadata": {},
   "source": [
    "Answer 1a:\n",
    "EENN which is unique.\n"
   ]
  },
  {
   "cell_type": "markdown",
   "metadata": {},
   "source": [
    "**1b)** What is the optimal policy (i.e. the optimal action in each state)? It is helpful if you draw the arrows/letters in the grid."
   ]
  },
  {
   "cell_type": "markdown",
   "metadata": {},
   "source": [
    "Answer 1b:\n",
    "in (0,0) N or E\n",
    "in (0,1) N or E\n",
    "in (0,2) N or E or S\n",
    "in (0,3) E\n",
    "in (1,0) E\n",
    "in (1,1) N or S or E or W\n",
    "in (1,2) N or E\n",
    "in (1,3) E\n",
    "in (2,0) N or W\n",
    "in (2,1) N or S\n",
    "in (2,2) N\n"
   ]
  },
  {
   "cell_type": "markdown",
   "metadata": {},
   "source": [
    "**1c)** What is expected total reward for the policy in 1a)?"
   ]
  },
  {
   "cell_type": "markdown",
   "metadata": {},
   "source": [
    "Answer 1c: 0 \n",
    "\n",
    "    since \n",
    "      (0,0) -> (1,0) means -1\n",
    "\n",
    "      (1,0) -> (2,0) means 1, and -1+1=0 total\n",
    "      \n",
    "      (2,0) -> (2,1) means -1, and -1+0=-1 total\n",
    "      \n",
    "      (2,1) -> (2,2) means +1, and -1+1=0 total\n",
    "      \n",
    "      (2,2) -> F     means that the total reward is 0."
   ]
  },
  {
   "cell_type": "markdown",
   "metadata": {
    "id": "sNkIk-k7qItT"
   },
   "source": [
    "## Value Iteration"
   ]
  },
  {
   "cell_type": "markdown",
   "metadata": {
    "id": "NJTFDikEqItT"
   },
   "source": [
    "For larger problems we need to utilize algorithms to determine the optimal policy $\\pi^*$. *Value iteration* is one such algorithm that iteratively computes the value for each state. Recall that for a policy to be optimal, it must satisfy the Bellman equation above, meaning that plugging in a given candidate $V^*$ in the right-hand side (RHS) of the Bellman equation should result in the same $V^*$ on the left-hand side (LHS). This property will form the basis of our algorithm. Essentially, it can be shown that repeated application of the RHS to any intial value function $V^0(s)$ will eventually lead to the value $V$ which statifies the Bellman equation. Hence repeated application of the Bellman equation will also lead to the optimal value function. We can then extract the optimal policy by simply noting what actions that satisfy the equation.    "
   ]
  },
  {
   "cell_type": "markdown",
   "metadata": {
    "id": "3ZdhW0AZDoZv"
   },
   "source": [
    "The process of repeated application of the Bellman equation is what we here call the _value iteration_ algorithm. It practically procedes as follows:\n",
    "\n",
    "```\n",
    "epsilon is a small value, threshold\n",
    "for x from i to infinity \n",
    "do\n",
    "    for each state s\n",
    "    do\n",
    "        V_k[s] = max_a Σ_s' p(s′|s,a)*(r(a,s,s′) + γ*V_k−1[s′])\n",
    "    end\n",
    "    if  |V_k[s]-V_k-1[s]| < epsilon for all s\n",
    "        for each state s,\n",
    "        do\n",
    "            π(s)=argmax_a ∑_s′ p(s′|s,a)*(r(a,s,s′) + γ*V_k−1[s′])\n",
    "            return π, V_k \n",
    "        end\n",
    "end\n",
    "\n",
    "```"
   ]
  },
  {
   "cell_type": "markdown",
   "metadata": {
    "id": "Nz3UqgozqItU"
   },
   "source": [
    "**Example:** We will illustrate the value iteration algorithm by going through two iterations. Below is a 3x3 grid with the rewards given in each state. Assume now that given a certain state $s$ and action $a$, there is a probability 0.8 that that action will be performed and a probability 0.2 that no action is taken. For instance, if we take action **E** in state $(x,y)$ we will go to $(x+1,y)$ 80 percent of the time (given that that action is available in that state), and remain still 20 percent of the time. We will use have a discount factor $\\gamma = 0.9$. Let the initial value be $V^0(s)=0$ for all states $s\\in S$. \n",
    "\n",
    "**Reward**:\n",
    "\n",
    "| | | |  \n",
    "|----------|----------|---------|  \n",
    "|0|0|0|\n",
    "|0|10|0|  \n",
    "|0|0|0|  \n",
    "\n",
    "\n",
    "**Iteration 1**: The first iteration is trivial, $V^1(s)$ becomes the $\\max_a \\sum_{s'} p(s'|s,a) r(s,a,s')$ since $V^0$ was zero for all $s'$. The updated values for each state become\n",
    "\n",
    "| | | |  \n",
    "|----------|----------|---------|  \n",
    "|0|8|0|\n",
    "|8|2|8|  \n",
    "|0|8|0|  \n",
    "  \n",
    "**Iteration 2**:  \n",
    "  \n",
    "Staring with cell (0,0) (lower left corner): We find the expected value of each move:  \n",
    "Action **S**: 0  \n",
    "Action **E**: 0.8( 0 + 0.9 \\* 8) + 0.2(0 + 0.9 \\* 0) = 5.76  \n",
    "Action **N**: 0.8( 0 + 0.9 \\* 8) + 0.2(0 + 0.9 \\* 0) = 5.76  \n",
    "Action **W**: 0\n",
    "\n",
    "Hence any action between **E** and **N** would be best at this stage.\n",
    "\n",
    "Similarly for cell (1,0):\n",
    "\n",
    "Action **N**: 0.8( 10 + 0.9 \\* 2) + 0.2(0 + 0.9 \\* 8) = 10.88 (Action **N** is the maximizing action)  \n",
    "\n",
    "Similar calculations for remaining cells give us:\n",
    "\n",
    "| | | |  \n",
    "|----------|----------|---------|  \n",
    "|5.76|10.88|5.76|\n",
    "|10.88|8.12|10.88|  \n",
    "|5.76|10.88|5.76|  \n",
    "\n"
   ]
  },
  {
   "cell_type": "markdown",
   "metadata": {
    "id": "S3vIdFpuqItU"
   },
   "source": [
    "## Question 2"
   ]
  },
  {
   "cell_type": "markdown",
   "metadata": {},
   "source": [
    "**2a)** Code the value iteration algorithm just described here, and show the converging optimal value function and the optimal policy for the above 3x3 grid. Make sure to consider that there may be several equally good actions for a state when presenting the optimal policy."
   ]
  },
  {
   "cell_type": "markdown",
   "metadata": {},
   "source": [
    "Steps:\n",
    "1. Define matrix\n",
    "2. Define grid?\n",
    "3. function that calculates what action to take in order to maximize the reward\n",
    "\n",
    "value of s= max_expected(possible_actions)\n",
    "\n",
    "expected_value(prob_of_moving*sum_of_reward_for_transitioning + discounted_value)\n",
    "\n",
    "\n",
    "moving_prob=0.8\n",
    "functionen V_k(x,y,V_prev, reward, moving_prob, gamma=1)"
   ]
  },
  {
   "cell_type": "code",
   "execution_count": 51,
   "metadata": {},
   "outputs": [],
   "source": [
    "import numpy as np\n",
    "import matplotlib.pyplot as plt"
   ]
  },
  {
   "cell_type": "code",
   "execution_count": 149,
   "metadata": {},
   "outputs": [],
   "source": [
    "import random\n",
    "from random import shuffle\n",
    "from enum import Enum\n",
    "from math import sqrt\n",
    "\n",
    "from typing import List\n",
    "\n",
    "class State:\n",
    "    def __init__(self ,reward, coord, r):\n",
    "        if r:\n",
    "            self.val = random.randint(0,100)\n",
    "        else:\n",
    "            self.val = 0\n",
    "        self.new_val = 0\n",
    "        self.reward = reward\n",
    "        self.pi : (int, int) = None\n",
    "        self.difference = 0\n",
    "\n",
    "\n",
    "        self.actions = []\n",
    "        self.coord = coord\n",
    "\n",
    "    def action_list_to_string(self):\n",
    "        newlst = []\n",
    "        for a in self.actions:\n",
    "            newlst.append(str(a.coord))\n",
    "\n",
    "        return ' '.join(newlst)\n",
    "\n",
    "\n",
    "    def __str__(self):\n",
    "        return \"(\" + str(self.get_x()) + \", \" + str(self.get_y()) + \") has value: \"+ str(self.val) + \") ,reward: \"+ str(self.reward)+ \",actions: \" + str(self.action_list_to_string()) + \" and optimal policy: \" + str(self.pi)\n",
    "\n",
    "    def get_coord(self):\n",
    "        return self.coord\n",
    "\n",
    "    def get_x(self):\n",
    "        return self.coord[0]\n",
    "\n",
    "    def get_y(self):\n",
    "        return self.coord[1]\n",
    "\n",
    "    def get_val(self):\n",
    "        return self.val\n",
    "\n",
    "    def set_val(self, new_value):\n",
    "        self.val = new_value\n",
    "\n",
    "    def get_actions(self):\n",
    "        return self.actions\n",
    "\n",
    "    def add_action(self, state):\n",
    "        self.actions.append(state)\n",
    "\n",
    "\n",
    "\n",
    "def listcoord(rows, cols):\n",
    "    return [(x ,y) for x in range(rows) for y in range(cols)]\n",
    "\n",
    "\n",
    "def State_list(listreward, listcoord, ran):\n",
    "    state_list = []\n",
    "    for r, c in zip(listreward, listcoord):\n",
    "        state_list.append(State(r ,c, ran))\n",
    "    for s in state_list:\n",
    "        for t in state_list:\n",
    "            abs_x = abs(s.get_x() - t.get_x())\n",
    "            abs_y = abs(s.get_y() - t.get_y())\n",
    "            if ((abs_y == 1 and abs_x == 0) ^ (abs_y == 0 and abs_x == 1)):\n",
    "                s.add_action(t)\n",
    "    return state_list\n",
    "\n",
    "#0.8( 10 + 0.9 * 2) + 0.2(0 + 0.9 * 8)\n",
    "#Action N: 0.8( 10 + 0.9 * 2) + 0.2(0 + 0.9 * 8) = 10.88\n",
    "\n",
    "\n",
    "#0.8*(0+10)+0.2*(0+0.9*0)\n",
    "#0.8*(nuvarande_värde action + gamma* förra värde action) + 0.2(nuvarande + gamma*värdet_om_stå_kvar)\n",
    "\n",
    "\n",
    "#\n",
    "#TODO add new generation values to new list so that they don't effect other states during current gen.\n",
    "\n",
    "\n",
    "def Value_Iteration_Algorithm(epsi, gam, delt,show):\n",
    "    epsilon = epsi\n",
    "    gamma = gam\n",
    "    delta = delt\n",
    "    g_list = []\n",
    "    coord = listcoord(3,3)\n",
    "    rewards = [0 for x in range(9)]\n",
    "    rewards[4] = 10\n",
    "    statelist = State_list(rewards, coord, not show)\n",
    "\n",
    "    generation = 0\n",
    "    for j in range(1000000):\n",
    "        max_dif = 0\n",
    "        for i, s in enumerate(statelist):\n",
    "            max_val = 0\n",
    "            for a in s.get_actions():\n",
    "                new_val = (1 - delta) * (a.reward + gamma * a.val) + delta * (s.reward + gamma * s.val)\n",
    "\n",
    "                max_val = max(max_val, new_val)\n",
    "                if new_val > s.val:\n",
    "                    s.pi = a.coord\n",
    "            max_dif = max(max_dif, abs(max_val - s.val))\n",
    "            s.new_val = max_val\n",
    "        if max_dif < epsilon:\n",
    "            break\n",
    "        generation += 1\n",
    "        if show:\n",
    "            print(\"Generation: \", generation)\n",
    "            print_matrix(statelist)\n",
    "        gen_list =[]\n",
    "        for s in statelist:\n",
    "            gen_list.append(s.val)\n",
    "            s.val = s.new_val\n",
    "    \n",
    "        g_list.append(gen_list)\n",
    "    if show:\n",
    "        print(\"final generation\")\n",
    "        print(\"best policies pi: \")\n",
    "        for i in statelist:\n",
    "            print(i)\n",
    "    return g_list\n",
    "\n",
    "\n",
    "def print_matrix(state: List[State]):\n",
    "    dimension = int(sqrt(len(state)))\n",
    "    mat = [[0 for i in range(dimension)] for i in range(dimension)]\n",
    "    for s in state:\n",
    "        mat[s.get_x()][s.get_y()] = s.val\n",
    "    for row in mat:\n",
    "        print(row)\n",
    "\n",
    "\n",
    "\n",
    "\n",
    "\n",
    "\n",
    "\n",
    "\n",
    "\n",
    "\n"
   ]
  },
  {
   "cell_type": "code",
   "execution_count": 150,
   "metadata": {},
   "outputs": [
    {
     "name": "stdout",
     "output_type": "stream",
     "text": [
      "Generation:  1\n",
      "[0, 0, 0]\n",
      "[0, 0, 0]\n",
      "[0, 0, 0]\n",
      "Generation:  2\n",
      "[0, 8.0, 0]\n",
      "[8.0, 2.0, 8.0]\n",
      "[0, 8.0, 0]\n",
      "Generation:  3\n",
      "[5.760000000000001, 10.88, 5.760000000000001]\n",
      "[10.88, 8.120000000000001, 10.88]\n",
      "[5.760000000000001, 10.88, 5.760000000000001]\n",
      "Generation:  4\n",
      "[8.870400000000002, 15.804800000000002, 8.870400000000002]\n",
      "[15.804800000000002, 11.295200000000001, 15.804800000000002]\n",
      "[8.870400000000002, 15.804800000000002, 8.870400000000002]\n",
      "Generation:  5\n",
      "[12.976128000000003, 18.977408000000004, 12.976128000000003]\n",
      "[18.977408000000004, 15.412592000000004, 18.977408000000004]\n",
      "[12.976128000000003, 18.977408000000004, 12.976128000000003]\n",
      "Generation:  6\n",
      "[15.999436800000003, 22.512999680000004, 15.999436800000003]\n",
      "[22.512999680000004, 18.438000320000004, 22.512999680000004]\n",
      "[15.999436800000003, 22.512999680000004, 15.999436800000003]\n",
      "Generation:  7\n",
      "[19.089258393600005, 25.327700172800004, 19.089258393600005]\n",
      "[25.327700172800004, 21.528199827200005, 25.327700172800004]\n",
      "[19.089258393600005, 25.327700172800004, 19.089258393600005]\n",
      "Generation:  8\n",
      "[21.672010635264005, 28.059289906688008, 21.672010635264005]\n",
      "[28.059289906688008, 24.111020093312007, 28.059289906688008]\n",
      "[21.672010635264005, 28.059289906688008, 21.672010635264005]\n",
      "Generation:  9\n",
      "[24.10365064716289, 30.410606650388488, 24.10365064716289]\n",
      "[30.410606650388488, 26.54267234961153, 30.410606650388488]\n",
      "[24.10365064716289, 30.410606650388488, 24.10365064716289]\n",
      "Generation:  10\n",
      "[26.234293904769032, 32.58463328879023, 26.234293904769032]\n",
      "[32.58463328879023, 28.673317811209788, 32.58463328879023]\n",
      "[26.234293904769032, 32.58463328879023, 26.234293904769032]\n",
      "Generation:  11\n",
      "[28.183108870787393, 34.510022816053294, 28.183108870787393]\n",
      "[34.510022816053294, 30.62213317394673, 34.510022816053294]\n",
      "[28.183108870787393, 34.510022816053294, 28.183108870787393]\n",
      "Generation:  12\n",
      "[29.920176024300105, 36.25973999213124, 29.920176024300105]\n",
      "[36.25973999213124, 32.359200398868786, 36.25973999213124]\n",
      "[29.920176024300105, 36.25973999213124, 29.920176024300105]\n",
      "Generation:  13\n",
      "[31.492644478708513, 37.82537748576915, 31.492644478708513]\n",
      "[37.82537748576915, 33.93166886613088, 37.82537748576915]\n",
      "[31.492644478708513, 37.82537748576915, 31.492644478708513]\n",
      "Generation:  14\n",
      "[32.90294779592132, 39.23936953105268, 32.90294779592132]\n",
      "[39.23936953105268, 35.34197218565735, 39.23936953105268]\n",
      "[32.90294779592132, 39.23936953105268, 32.90294779592132]\n",
      "Generation:  15\n",
      "[34.17487666562377, 40.50930648926278, 34.17487666562377]\n",
      "[40.50930648926278, 36.61390105577625, 40.50930648926278]\n",
      "[34.17487666562377, 40.50930648926278, 34.17487666562377]\n",
      "Generation:  16\n",
      "[35.31817847208148, 41.65368392822621, 35.31817847208148]\n",
      "[41.65368392822621, 37.75720286230893, 41.65368392822621]\n",
      "[35.31817847208148, 41.65368392822621, 35.31817847208148]\n",
      "Generation:  17\n",
      "[36.34792455329754, 42.68284916794315, 36.34792455329754]\n",
      "[42.68284916794315, 38.786948943538476, 42.68284916794315]\n",
      "[36.34792455329754, 42.68284916794315, 36.34792455329754]\n",
      "Generation:  18\n",
      "[37.27427782051262, 43.609516089577475, 37.27427782051262]\n",
      "[43.609516089577475, 39.71330221075599, 43.609516089577475]\n",
      "[37.27427782051262, 43.609516089577475, 37.27427782051262]\n",
      "Generation:  19\n",
      "[38.10822159218806, 44.44329048786826, 38.10822159218806]\n",
      "[44.44329048786826, 40.54724598243186, 44.44329048786826]\n",
      "[38.10822159218806, 44.44329048786826, 38.10822159218806]\n",
      "Generation:  20\n",
      "[38.858649037859, 45.193809395167236, 38.858649037859]\n",
      "[45.193809395167236, 41.29767342810288, 45.193809395167236]\n",
      "[38.858649037859, 45.193809395167236, 38.858649037859]\n",
      "Generation:  21\n",
      "[39.534099591335035, 45.86921055936418, 39.534099591335035]\n",
      "[45.86921055936418, 41.97312398157893, 45.86921055936418]\n",
      "[39.534099591335035, 45.86921055936418, 39.534099591335035]\n",
      "Generation:  22\n",
      "[40.14196952918252, 46.47710716742239, 40.14196952918252]\n",
      "[46.47710716742239, 42.58099391942642, 46.47710716742239]\n",
      "[40.14196952918252, 46.47710716742239, 40.14196952918252]\n",
      "Generation:  23\n",
      "[40.689071675796974, 47.02419491212305, 40.689071675796974]\n",
      "[47.02419491212305, 43.128096066040875, 47.02419491212305]\n",
      "[40.689071675796974, 47.02419491212305, 40.689071675796974]\n",
      "Generation:  24\n",
      "[41.18145323837206, 47.51658425173159, 41.18145323837206]\n",
      "[47.51658425173159, 43.62047762861596, 47.51658425173159]\n",
      "[41.18145323837206, 47.51658425173159, 41.18145323837206]\n",
      "Generation:  25\n",
      "[41.62460224415372, 47.95972905791518, 41.62460224415372]\n",
      "[47.95972905791518, 44.06362663439762, 47.95972905791518]\n",
      "[41.62460224415372, 47.95972905791518, 41.62460224415372]\n",
      "Generation:  26\n",
      "[42.02343332564661, 48.35856240719103, 42.02343332564661]\n",
      "[48.35856240719103, 44.46245771589051, 48.35856240719103]\n",
      "[42.02343332564661, 48.35856240719103, 42.02343332564661]\n",
      "Generation:  27\n",
      "[42.382382931793934, 48.71751078873556, 42.382382931793934]\n",
      "[48.71751078873556, 44.821407322037835, 48.71751078873556]\n",
      "[42.382382931793934, 48.71751078873556, 42.382382931793934]\n",
      "Generation:  28\n",
      "[42.70543669561251, 49.04056521383965, 42.70543669561251]\n",
      "[49.04056521383965, 45.14446108585642, 49.04056521383965]\n",
      "[42.70543669561251, 49.04056521383965, 42.70543669561251]\n",
      "Generation:  29\n",
      "[42.996185559174805, 49.33131372030777, 42.996185559174805]\n",
      "[49.33131372030777, 45.435209949418706, 49.33131372030777]\n",
      "[42.996185559174805, 49.33131372030777, 42.996185559174805]\n",
      "Generation:  30\n",
      "[43.25785927927306, 49.59298763323687, 43.25785927927306]\n",
      "[49.59298763323687, 45.696883669516964, 49.59298763323687]\n",
      "[43.25785927927306, 49.59298763323687, 43.25785927927306]\n",
      "Generation:  31\n",
      "[43.4933657661997, 49.82849401603485, 43.4933657661997]\n",
      "[49.82849401603485, 45.9323901564436, 49.82849401603485]\n",
      "[43.4933657661997, 49.82849401603485, 43.4933657661997]\n",
      "Generation:  32\n",
      "[43.705321529461045, 50.04044983552568, 43.705321529461045]\n",
      "[50.04044983552568, 46.14434591970495, 50.04044983552568]\n",
      "[43.705321529461045, 50.04044983552568, 43.705321529461045]\n",
      "Generation:  33\n",
      "[43.89608175688148, 50.2312100325822, 43.89608175688148]\n",
      "[50.2312100325822, 46.33510614712539, 50.2312100325822]\n",
      "[43.89608175688148, 50.2312100325822, 43.89608175688148]\n",
      "Generation:  34\n",
      "[44.06776593969785, 50.40289423179508, 44.06776593969785]\n",
      "[50.40289423179508, 46.50679032994175, 50.40289423179508]\n",
      "[44.06776593969785, 50.40289423179508, 44.06776593969785]\n",
      "Generation:  35\n",
      "[44.22228171603807, 50.55740999928118, 44.22228171603807]\n",
      "[50.55740999928118, 46.66130610628197, 50.55740999928118]\n",
      "[44.22228171603807, 50.55740999928118, 44.22228171603807]\n",
      "Generation:  36\n",
      "[44.3613459083693, 50.69647419639364, 44.3613459083693]\n",
      "[50.69647419639364, 46.8003702986132, 50.69647419639364]\n",
      "[44.3613459083693, 50.69647419639364, 44.3613459083693]\n",
      "Generation:  37\n",
      "[44.486503684909906, 50.82163197035237, 44.486503684909906]\n",
      "[50.82163197035237, 46.92552807515381, 50.82163197035237]\n",
      "[44.486503684909906, 50.82163197035237, 44.486503684909906]\n",
      "Generation:  38\n",
      "[44.59914568193749, 50.93427396877418, 44.59914568193749]\n",
      "[50.93427396877418, 47.038170072181394, 50.93427396877418]\n",
      "[44.59914568193749, 50.93427396877418, 44.59914568193749]\n",
      "Generation:  39\n",
      "[44.70052348026616, 51.03565176634996, 44.70052348026616]\n",
      "[51.03565176634996, 47.139547870510064, 51.03565176634996]\n",
      "[44.70052348026616, 51.03565176634996, 44.70052348026616]\n",
      "Generation:  40\n",
      "[44.791763498219886, 51.12689178471024, 44.791763498219886]\n",
      "[51.12689178471024, 47.23078788846379, 51.12689178471024]\n",
      "[44.791763498219886, 51.12689178471024, 44.791763498219886]\n",
      "Generation:  41\n",
      "[44.87387951467095, 51.20900780094177, 44.87387951467095]\n",
      "[51.20900780094177, 47.312903904914855, 51.20900780094177]\n",
      "[44.87387951467095, 51.20900780094177, 44.87387951467095]\n",
      "Generation:  42\n",
      "[44.947783929318845, 51.282912215708215, 44.947783929318845]\n",
      "[51.282912215708215, 47.386808319562746, 51.282912215708215]\n",
      "[44.947783929318845, 51.282912215708215, 44.947783929318845]\n",
      "Generation:  43\n",
      "[45.01429790258731, 51.34942618891266, 45.01429790258731]\n",
      "[51.34942618891266, 47.45332229283121, 51.34942618891266]\n",
      "[45.01429790258731, 51.34942618891266, 45.01429790258731]\n",
      "Generation:  44\n",
      "[45.07416047848284, 51.409288764842756, 45.07416047848284]\n",
      "[51.409288764842756, 47.51318486872674, 51.409288764842756]\n",
      "[45.07416047848284, 51.409288764842756, 45.07416047848284]\n",
      "Generation:  45\n",
      "[45.1280367968137, 51.46316508315496, 45.1280367968137]\n",
      "[51.46316508315496, 47.567061187057604, 51.46316508315496]\n",
      "[45.1280367968137, 51.46316508315496, 45.1280367968137]\n",
      "Generation:  46\n",
      "[45.17652548329804, 51.51165376964937, 45.17652548329804]\n",
      "[51.51165376964937, 47.615549873541944, 51.51165376964937]\n",
      "[45.17652548329804, 51.51165376964937, 45.17652548329804]\n",
      "Generation:  47\n",
      "[45.2201653011412, 51.55529358748709, 45.2201653011412]\n",
      "[51.55529358748709, 47.6591896913851, 51.55529358748709]\n",
      "[45.2201653011412, 51.55529358748709, 45.2201653011412]\n",
      "Generation:  48\n",
      "[45.25944113719613, 51.594569423544954, 45.25944113719613]\n",
      "[51.594569423544954, 47.69846552744003, 51.594569423544954]\n",
      "[45.25944113719613, 51.594569423544954, 45.25944113719613]\n",
      "Generation:  49\n",
      "[45.294789389647676, 51.62991767599492, 45.294789389647676]\n",
      "[51.62991767599492, 47.73381377989158, 51.62991767599492]\n",
      "[45.294789389647676, 51.62991767599492, 45.294789389647676]\n",
      "Generation:  50\n",
      "[45.326602816852926, 51.66173110320103, 45.326602816852926]\n",
      "[51.66173110320103, 47.76562720709683, 51.66173110320103]\n",
      "[45.326602816852926, 51.66173110320103, 45.326602816852926]\n",
      "Generation:  51\n",
      "[45.35523490133827, 51.690363187685904, 45.35523490133827]\n",
      "[51.690363187685904, 47.79425929158217, 51.690363187685904]\n",
      "[45.35523490133827, 51.690363187685904, 45.35523490133827]\n",
      "Generation:  52\n",
      "[45.381003777374744, 51.71613206372263, 45.381003777374744]\n",
      "[51.71613206372263, 47.820028167618645, 51.71613206372263]\n",
      "[45.381003777374744, 51.71613206372263, 45.381003777374744]\n",
      "Generation:  53\n",
      "[45.404195765807756, 51.73932405215551, 45.404195765807756]\n",
      "[51.73932405215551, 47.84322015605166, 51.73932405215551]\n",
      "[45.404195765807756, 51.73932405215551, 45.404195765807756]\n",
      "Generation:  54\n",
      "[45.42506855539736, 51.76019684174519, 45.42506855539736]\n",
      "[51.76019684174519, 47.86409294564127, 51.76019684174519]\n",
      "[45.42506855539736, 51.76019684174519, 45.42506855539736]\n",
      "Generation:  55\n",
      "[45.44385406602806, 51.778982352375856, 45.44385406602806]\n",
      "[51.778982352375856, 47.88287845627197, 51.778982352375856]\n",
      "[45.44385406602806, 51.778982352375856, 45.44385406602806]\n",
      "Generation:  56\n",
      "[45.46076102559567, 51.795889311943476, 45.46076102559567]\n",
      "[51.795889311943476, 47.899785415839574, 51.795889311943476]\n",
      "[45.46076102559567, 51.795889311943476, 45.46076102559567]\n",
      "Generation:  57\n",
      "[45.47597728920653, 51.81110557555433, 45.47597728920653]\n",
      "[51.81110557555433, 47.915001679450434, 51.81110557555433]\n",
      "[45.47597728920653, 51.81110557555433, 45.47597728920653]\n",
      "Generation:  58\n",
      "[45.489671926456296, 51.82480021280409, 45.489671926456296]\n",
      "[51.82480021280409, 47.9286963167002, 51.82480021280409]\n",
      "[45.489671926456296, 51.82480021280409, 45.489671926456296]\n",
      "Generation:  59\n",
      "[45.50199709998108, 51.837125386328886, 45.50199709998108]\n",
      "[51.837125386328886, 47.94102149022498, 51.837125386328886]\n",
      "[45.50199709998108, 51.837125386328886, 45.50199709998108]\n",
      "final generation\n",
      "best policies pi: \n",
      "(0, 0) has value: 45.51308975615339) ,reward: 0,actions: (0, 1) (1, 0) and optimal policy: (1, 0)\n",
      "(0, 1) has value: 51.84821804250119) ,reward: 0,actions: (0, 0) (0, 2) (1, 1) and optimal policy: (1, 1)\n",
      "(0, 2) has value: 45.51308975615339) ,reward: 0,actions: (0, 1) (1, 2) and optimal policy: (1, 2)\n",
      "(1, 0) has value: 51.84821804250119) ,reward: 0,actions: (0, 0) (1, 1) (2, 0) and optimal policy: (1, 1)\n",
      "(1, 1) has value: 47.95211414639729) ,reward: 10,actions: (0, 1) (1, 0) (1, 2) (2, 1) and optimal policy: (2, 1)\n",
      "(1, 2) has value: 51.84821804250119) ,reward: 0,actions: (0, 2) (1, 1) (2, 2) and optimal policy: (1, 1)\n",
      "(2, 0) has value: 45.51308975615339) ,reward: 0,actions: (1, 0) (2, 1) and optimal policy: (2, 1)\n",
      "(2, 1) has value: 51.84821804250119) ,reward: 0,actions: (1, 1) (2, 0) (2, 2) and optimal policy: (1, 1)\n",
      "(2, 2) has value: 45.51308975615339) ,reward: 0,actions: (1, 2) (2, 1) and optimal policy: (2, 1)\n"
     ]
    }
   ],
   "source": [
    "yprime = Value_Iteration_Algorithm(0.01, 0.9,0.2, True)"
   ]
  },
  {
   "cell_type": "code",
   "execution_count": null,
   "metadata": {},
   "outputs": [],
   "source": []
  },
  {
   "cell_type": "markdown",
   "metadata": {},
   "source": [
    "**2b)** Explain why the result of 2a) does not depend on the initial value $V_0$."
   ]
  },
  {
   "cell_type": "markdown",
   "metadata": {},
   "source": [
    "Answer 2b: \n",
    "\n",
    "with the 3x3 matrix that we worked with above, we can divide the different states into three sets with different characteristics, S1 = {(0,0),(0,2),(2,0),(2,2)}, S2 = {(0,1),(2,1),(1,0),(1,2), S3 = {(1,1)}\n",
    "they have the following characteristics:\n",
    "states in S3 have a reward attched to them, \n",
    "every state in S2 is adjacent to a state in S3 and vice versa\n",
    "every state in S1 is adjacent to a state in S2 and vice versa.\n",
    "\n",
    "let's use state(0,1) , if we set gamma to less than 1 then (0,1) will always converge to value that is approximately 51.94. values will have proportionaly less impact then direct rewards do the more generations pass, we can see this as the true value propagating out from the states with actual rewards. states in S2 will converge to the highest value than average since they are adjacent to S3 that have a direct reward 10, nodes from S3 are not adjacent to any node with rewards, but there is a 20 percent chance that it stay put and claim part of its own reward, it is also adjacent to a high value state in S2 which are a set of high value nodes, S1 is adjacent to the highest value node S2, but they have no chance of getting direct rewards, so this makes them converge to the lowest value.\n",
    "\n",
    "below is an example of the value for (0,0) each generation, the algorithm is run 15 times with randomized starting values.\n"
   ]
  },
  {
   "cell_type": "code",
   "execution_count": 155,
   "metadata": {},
   "outputs": [
    {
     "data": {
      "text/plain": [
       "Text(0.5, 0, 'generation')"
      ]
     },
     "execution_count": 155,
     "metadata": {},
     "output_type": "execute_result"
    },
    {
     "data": {
      "image/png": "[encoded data removed]",
      "text/plain": [
       "<Figure size 640x480 with 1 Axes>"
      ]
     },
     "metadata": {},
     "output_type": "display_data"
    }
   ],
   "source": [
    "\n",
    "\n",
    "\n",
    "for i in range(15):\n",
    "    yprime = Value_Iteration_Algorithm(0.1, 0.9,0.2, False)\n",
    "    y = []\n",
    "    for i in yprime:\n",
    "        y.append(i[0])\n",
    "    x = [i for i in range(len(y))]\n",
    "    plt.scatter(x,y, s = 15)\n",
    "plt.title('(0,0) convergence')\n",
    "plt.ylabel('value', fontsize=12)\n",
    "plt.xlabel('generation', fontsize=12)"
   ]
  },
  {
   "cell_type": "markdown",
   "metadata": {},
   "source": [
    "**2c)** Describe your interpretation of the discount factor $\\gamma$. What would happen in the two extreme cases $\\gamma = 0$ and $\\gamma = 1$? Given some MDP, what would be important things to consider when deciding on which value of $\\gamma$ to use?"
   ]
  },
  {
   "cell_type": "markdown",
   "metadata": {},
   "source": [
    "Answer 2c:\n",
    "\n",
    "\n",
    "Convergence takes longer the closer gamma is to 1, and it takes shorter time the closer it is to 0\n",
    "In the case of gamma = 0, the values converge after one generation, since it's only dependent on the rewards.\n",
    "In the case of gamma = 1, the values never converge, since values and rewards are equally valued.\n",
    "\n",
    "when consider what gamma value to use, you should consider how accurate you need your approximation to be and how long it will take to reach a value. If you choose a low value for gamma, your approximation of an optimal value will be more accurate, but it will take longer to calculate. a higher value will make the calculations faster but the result will be less accurate."
   ]
  },
  {
   "cell_type": "markdown",
   "metadata": {
    "id": "AfKSybVI-UN1"
   },
   "source": [
    "## Question 4"
   ]
  },
  {
   "cell_type": "markdown",
   "metadata": {},
   "source": [
    "**4a)** What is the importance of exploration in reinforcement learning? Explain with an example."
   ]
  },
  {
   "cell_type": "markdown",
   "metadata": {},
   "source": [
    "Answer 4a:\n",
    "Example: Imagine a person that is going to invest their money in a fund. If they find exploring to be very important and they don't aim for short term rewards, they aim for long term rewards. They will not just go for the first aalternative which at first glance may seem good but investigating more options gives the investor a greater understanding of how good the investment in the first fund is, in comparison to other funds."
   ]
  },
  {
   "cell_type": "markdown",
   "metadata": {},
   "source": [
    "**4b)** Explain what makes reinforcement learning different from supervised learning tasks such as regression or classification. \n"
   ]
  },
  {
   "cell_type": "markdown",
   "metadata": {},
   "source": [
    "Answer 4b:\n",
    "Reinforcement learning is different from supervised learning since it does not require labeled data. It learns the data by exploring the environment. "
   ]
  },
  {
   "cell_type": "markdown",
   "metadata": {
    "id": "I1iFSvirqItV"
   },
   "source": [
    "## Question 5"
   ]
  },
  {
   "cell_type": "markdown",
   "metadata": {},
   "source": [
    "**5a)** Give a summary of how a decision tree works and how it extends to random forests."
   ]
  },
  {
   "cell_type": "markdown",
   "metadata": {},
   "source": [
    "Answer 5a:\n",
    "When using decision trees, we classify data by splitting it up depending on how it \"responds\" to a certain question. For example, lets say we want to predict how likely it is for us to \"go for a run\" on a monday morning. Factors that may inpact my decision about going for a run could be, answers to the questions: is it raining?, did I sleep well?, etc. The tree contains questions like these and splits the input space into smaller regions giving us a more complex and deeper tree that better fits our data.\n",
    "A disadvantage with using decision trees is that they are prone to overfitting since they are not \"flexible\" when it comes to classifying new samples. So when trees grow deeper, relationships between certain features may not be clear. This is why random forests was created. Random forests combines the predicitions of several decision trees. "
   ]
  },
  {
   "cell_type": "markdown",
   "metadata": {},
   "source": [
    "**5b)** State at least one advantage and one drawback with using random forests over decision trees."
   ]
  },
  {
   "cell_type": "markdown",
   "metadata": {},
   "source": [
    "Answer 5b: An advantage with using random forests over decision trees is that they reduce overfitting. By combining the predictions of several decision trees they also have the flexability that tends to result in higher accuracy. \n",
    "A drawback with using random forests over decision trees is that random forests are more expensive since they contain several decision trees. Thus when making a prediction, all decision trees have to make predictions for the same given input.\n",
    "It is also more difficult to interpret than decision trees. Decision trees can be interpreted easily just by following the path in the tree that leads to the leaf."
   ]
  }
 ],
 "metadata": {
  "colab": {
   "provenance": []
  },
  "kernelspec": {
   "display_name": "Python 3 (ipykernel)",
   "language": "python",
   "name": "python3"
  },
  "language_info": {
   "codemirror_mode": {
    "name": "ipython",
    "version": 3
   },
   "file_extension": ".py",
   "mimetype": "text/x-python",
   "name": "python",
   "nbconvert_exporter": "python",
   "pygments_lexer": "ipython3",
   "version": "3.10.9"
  },
  "vscode": {
   "interpreter": {
    "hash": "4ac54d0966a333a805ba7752ea123024b07a159dae64f707c7ddc090deb67544"
   }
  }
 },
 "nbformat": 4,
 "nbformat_minor": 1
}
